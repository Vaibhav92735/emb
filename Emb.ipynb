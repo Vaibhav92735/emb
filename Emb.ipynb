{
  "nbformat": 4,
  "nbformat_minor": 0,
  "metadata": {
    "colab": {
      "provenance": []
    },
    "kernelspec": {
      "name": "python3",
      "display_name": "Python 3"
    },
    "language_info": {
      "name": "python"
    }
  },
  "cells": [
    {
      "cell_type": "code",
      "source": [
        "!pip install --quiet opencv-python\n",
        "!pip install --quiet pillow"
      ],
      "metadata": {
        "id": "iWl-oNk5uZiL"
      },
      "execution_count": 8,
      "outputs": []
    },
    {
      "cell_type": "code",
      "source": [
        "import cv2\n",
        "from pathlib import Path\n",
        "\n",
        "def extract_frames(video_file: Path, output_dir: Path, interval: int,\n",
        "                   prefix: str = 'frame', fmt: str = 'png') -> None:\n",
        "    output_dir.mkdir(parents=True, exist_ok=True)\n",
        "    cap = cv2.VideoCapture(str(video_file))\n",
        "    if not cap.isOpened():\n",
        "        raise RuntimeError(f\"Cannot open {video_file}\")\n",
        "    frame_idx = save_idx = 0\n",
        "    while True:\n",
        "        ret, frame = cap.read()\n",
        "        if not ret:\n",
        "            break\n",
        "        if frame_idx % interval == 0:\n",
        "            out_path = output_dir / f\"{prefix}_{save_idx:04d}.{fmt}\"\n",
        "            cv2.imwrite(str(out_path), frame)\n",
        "            save_idx += 1\n",
        "        frame_idx += 1\n",
        "    cap.release()\n",
        "    print(f\"Extracted {save_idx} frames to '{output_dir}'\")"
      ],
      "metadata": {
        "id": "TtLQGtqce4S0"
      },
      "execution_count": 3,
      "outputs": []
    },
    {
      "cell_type": "code",
      "source": [
        "video = Path('/content/demo.mp4')\n",
        "output = Path('/content/frames')\n",
        "\n",
        "extract_frames(video, output, interval=30, prefix='frame', fmt='png')"
      ],
      "metadata": {
        "colab": {
          "base_uri": "https://localhost:8080/"
        },
        "id": "ydIb15w1uk6y",
        "outputId": "1f8c737a-3601-4549-c7df-7277f964dcbd"
      },
      "execution_count": 5,
      "outputs": [
        {
          "output_type": "stream",
          "name": "stdout",
          "text": [
            "Extracted 4 frames to '/content/frames'\n"
          ]
        }
      ]
    },
    {
      "cell_type": "code",
      "source": [
        "from PIL import Image\n",
        "import os\n",
        "\n",
        "def image_to_c_array(path):\n",
        "    img = Image.open(path).convert('L').resize((64, 64))\n",
        "    data = list(img.getdata())\n",
        "    with open('frame_array.h', 'w') as f:\n",
        "        f.write('const uint8_t frame[64][64] = {\\n')\n",
        "        for i in range(64):\n",
        "            f.write('  {' + ', '.join(str(data[i*64 + j]) for j in range(64)) + '},\\n')\n",
        "        f.write('};')\n",
        "\n",
        "image_to_c_array('frames/frame_0002.png')"
      ],
      "metadata": {
        "id": "zF7uiwDbfN6e"
      },
      "execution_count": 7,
      "outputs": []
    },
    {
      "cell_type": "code",
      "source": [
        "from pathlib import Path\n",
        "from PIL import Image\n",
        "import sys\n",
        "\n",
        "def convert_image_to_c_array(input_path: Path,\n",
        "                             output_path: Path,\n",
        "                             width: int = 64,\n",
        "                             height: int = 64,\n",
        "                             var_name: str = 'frame'):\n",
        "    if not input_path.is_file():\n",
        "        raise FileNotFoundError(f\"No file at {input_path}\")\n",
        "    img = Image.open(input_path).convert('L').resize((width, height))\n",
        "    pixels = list(img.getdata())\n",
        "\n",
        "    with open(output_path, 'w') as f:\n",
        "        f.write('#ifndef FRAME_ARRAY_H\\n#define FRAME_ARRAY_H\\n\\n')\n",
        "        f.write('#include <stdint.h>\\n\\n')\n",
        "        f.write(f'const uint8_t {var_name}[{height}][{width}] = {{\\n')\n",
        "        for row in range(height):\n",
        "            row_vals = pixels[row*width:(row+1)*width]\n",
        "            vals_str = ', '.join(str(v) for v in row_vals)\n",
        "            f.write(f'    {{ {vals_str} }},\\n')\n",
        "        f.write('};\\n\\n#endif // FRAME_ARRAY_H\\n')\n",
        "\n",
        "    print(f\"Wrote C header to {output_path}\")"
      ],
      "metadata": {
        "id": "drUPEw4dvwf5"
      },
      "execution_count": 12,
      "outputs": []
    },
    {
      "cell_type": "code",
      "source": [
        "inp = Path('/content/frames/frame_0002.png')\n",
        "out = Path('/content/frame_array.h')\n",
        "\n",
        "convert_image_to_c_array(inp, out, width=64, height=64, var_name='frame')"
      ],
      "metadata": {
        "colab": {
          "base_uri": "https://localhost:8080/"
        },
        "id": "myTkbk7cv4GH",
        "outputId": "54cb653d-1724-46e6-e082-86c5974d1577"
      },
      "execution_count": 13,
      "outputs": [
        {
          "output_type": "stream",
          "name": "stdout",
          "text": [
            "Wrote C header to /content/frame_array.h\n"
          ]
        }
      ]
    }
  ]
}